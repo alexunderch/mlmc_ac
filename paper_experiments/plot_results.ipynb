{
  "nbformat": 4,
  "nbformat_minor": 0,
  "metadata": {
    "colab": {
      "provenance": []
    },
    "kernelspec": {
      "name": "python3",
      "display_name": "Python 3"
    },
    "language_info": {
      "name": "python"
    }
  },
  "cells": [
    {
      "cell_type": "code",
      "source": [
        "%%capture\n",
        "!pip install -U wandb"
      ],
      "metadata": {
        "id": "aX_f8rC_q3fk"
      },
      "execution_count": null,
      "outputs": []
    },
    {
      "cell_type": "code",
      "source": [
        "import os\n",
        "import wandb\n",
        "import pandas as pd\n",
        "import numpy as np\n",
        "\n",
        "import matplotlib.pyplot as plt\n",
        "import pandas as pd\n",
        "\n",
        "from collections import defaultdict\n",
        "\n",
        "os.environ[\"WANDB_API_KEY\"]=..."
      ],
      "metadata": {
        "id": "Tu_7_QDb0UgJ"
      },
      "execution_count": null,
      "outputs": []
    },
    {
      "cell_type": "code",
      "source": [
        "env_ids = [\n",
        "    \"navix:Navix-Empty-6x6-v0\", \"navix:Navix-Dynamic-Obstacles-6x6-v0\",\n",
        "    \"navix:Navix-LavaGapS6-v0\", \"navix:Navix-GoToDoor-6x6-v0\",\n",
        "]"
      ],
      "metadata": {
        "id": "9bB4YbGK54k3"
      },
      "execution_count": null,
      "outputs": []
    },
    {
      "cell_type": "code",
      "source": [
        "\n",
        "def get_data(sweep_id):\n",
        "\n",
        "    api = wandb.Api()\n",
        "    sweep = api.sweep(f\"yourweep/{sweep_id}\")\n",
        "    runs = sweep.runs\n",
        "\n",
        "    data = {\n",
        "        \"env_id\": [],\n",
        "        \"Episode_Return\": [],\n",
        "        \"env_samples\": [],\n",
        "        \"optimiser\": [],\n",
        "        \"mlmc\": [],\n",
        "        \"seed\": [],\n",
        "        \"batchsize_bound\": [],\n",
        "        \"batchsize_limit\": [],\n",
        "        \"projection\": []\n",
        "    }\n",
        "\n",
        "\n",
        "    for i in runs:\n",
        "        run_data = i.history(\n",
        "            samples=100000, keys=None, x_axis=\"env_samples\", pandas=(True), stream=\"default\"\n",
        "        )\n",
        "        try:\n",
        "            data[\"Episode_Return\"].append(run_data[\"Episode_Return\"].values)\n",
        "            data[\"env_samples\"].append(run_data[\"env_samples\"].values)\n",
        "            data[\"optimiser\"].append(i.config[\"optimiser\"])\n",
        "            data[\"env_id\"].append(i.config[\"experiment.env_id\"])\n",
        "            data[\"mlmc\"].append(i.config[\"experiment.mlmc_correction\"])\n",
        "            data[\"seed\"].append(i.config[\"seed\"])\n",
        "            data[\"batchsize_bound\"].append(i.config[\"experiment.batchsize_bound\"])\n",
        "            data[\"batchsize_limit\"].append(i.config[\"experiment.batchsize_limit\"])\n",
        "            data[\"projection\"].append(i.config[\"experiment.projection\"])\n",
        "\n",
        "        except KeyError as e:\n",
        "            continue\n",
        "\n",
        "\n",
        "    return data\n",
        "\n"
      ],
      "metadata": {
        "id": "G29saxQ44Dxa"
      },
      "execution_count": null,
      "outputs": []
    },
    {
      "cell_type": "code",
      "source": [
        "df = pd.DataFrame(get_data(\"abracadabra\"))"
      ],
      "metadata": {
        "id": "L8Sz0osk7ruP"
      },
      "execution_count": null,
      "outputs": []
    },
    {
      "cell_type": "code",
      "source": [
        "# groups = {\n",
        "#     ('2', False): \"MAdam\",\n",
        "#     ('sf_sgd', False): \"Schedule-free SGD\",\n",
        "#     ('adam', False): \"Adam\",\n",
        "#     ('prodigy', False): \"Prodigy\",\n",
        "#     ('mamd', False): \"SGD w/ momentum\"\n",
        "# }\n",
        "\n",
        "projection = \"l2\"\n",
        "\n",
        "# groups = {\n",
        "#     (2, 2, False, projection): \"B=2, M=2, no batching\",\n",
        "#     (2, 2, True, projection): \"B=2, M=2, with batching\",\n",
        "#     (2, 32, False, projection): \"B=2, M=32, no batching\",\n",
        "#     (2, 32, True, projection): \"B=2, M=32, with batching\",\n",
        "#     (64, 32, False, projection): \"B=64, M=32, no batching\",\n",
        "#     (64, 32, True, projection): \"B=64, M=32, with batching\",\n",
        "#     (64, 2, False, projection): \"B=64, M=2, no batching\",\n",
        "#     (64, 2, True, projection): \"B=64, M=2, with batching\",\n",
        "# }\n",
        "\n",
        "\n",
        "# groups = {\n",
        "#     (2, 2, False, \"simplex\"): \"Bregman entropy projection\",\n",
        "#     (2, 2, False, \"l2\"): \"Euclidean projection\",\n",
        "#     (2, 2, False, \"none\"): \"Softmax projection\",\n",
        "\n",
        "# }\n",
        "\n",
        "# groups = {\n",
        "#     (2, 2, True, \"simplex\"): \"Bregman entropy projection\",\n",
        "#     (2, 2, True, \"l2\"): \"Euclidean projection\",\n",
        "#     (2, 2, True, \"none\"): \"Softmax projection\",\n",
        "\n",
        "# }\n",
        "\n",
        "groups = {\n",
        "    (2, 2, True, \"simplex\"): \"batching + Bregman projection\",\n",
        "    (2, 2, False, \"simplex\"): \"no batching + Bregman projection\",\n",
        "}\n",
        "\n",
        "\n",
        "titles = {\n",
        "    \"navix:Navix-Empty-6x6-v0\": r\"6 $\\times$ 6 Empty Room\",\n",
        "    \"navix:Navix-Dynamic-Obstacles-6x6-v0\": r\"6 $\\times$ 6 Room with Dyn. Obstacles\",\n",
        "    \"navix:Navix-LavaGapS6-v0\": r\"6 $\\times$ 6 Lava Gap\",\n",
        "    \"navix:Navix-GoToDoor-6x6-v0\": r\"6 $\\times$ 6 Go-To-Door\"\n",
        "}"
      ],
      "metadata": {
        "id": "J8d7NExEDFkU"
      },
      "execution_count": null,
      "outputs": []
    },
    {
      "cell_type": "code",
      "source": [
        "def tolerant_mean(arrs):\n",
        "    lens = [len(i) for i in arrs]\n",
        "    arr = np.ma.empty((np.max(lens),len(arrs)))\n",
        "    arr.mask = True\n",
        "    for idx, l in enumerate(arrs):\n",
        "        arr[:len(l),idx] = l\n",
        "    return arr.mean(axis = -1), arr.std(axis=-1)"
      ],
      "metadata": {
        "id": "neUUkvFy69kD"
      },
      "execution_count": null,
      "outputs": []
    },
    {
      "cell_type": "code",
      "source": [
        "\n",
        "for env_id in env_ids:\n",
        "\n",
        "    for gr, arr in df[df['env_id'] == env_id].groupby([\"batchsize_bound\", \"batchsize_limit\", \"mlmc\", \"projection\"]):\n",
        "\n",
        "        if gr in groups:\n",
        "            label = groups[gr]\n",
        "\n",
        "            mean, sigma = tolerant_mean(arr[\"Episode_Return\"].values)\n",
        "            x_mean, _ = tolerant_mean(arr[\"env_samples\"].values)\n",
        "\n",
        "            plt.plot(\n",
        "                x_mean,\n",
        "                mean,\n",
        "                label=label,\n",
        "                )\n",
        "\n",
        "            plt.fill_between(\n",
        "                x_mean,\n",
        "                mean+sigma,\n",
        "                mean-sigma,\n",
        "                alpha=0.33\n",
        "                )\n",
        "    plt.grid()\n",
        "    plt.title(titles[env_id])\n",
        "    fontsize=16\n",
        "    plt.title(f\"Projections exp. on {titles[env_id]}\", fontsize=fontsize)\n",
        "    plt.xlabel(\"Number of observed env. samples\", fontsize=fontsize+4)\n",
        "    plt.ylabel(\"Mean episode return\", fontsize=fontsize+4)\n",
        "    plt.xticks(fontsize=fontsize+1)\n",
        "    plt.yticks(fontsize=fontsize+1)\n",
        "    plt.legend(loc=\"lower left\", fontsize=12)\n",
        "    plt.savefig(f'{env_id}_batching.pdf', format = 'pdf', bbox_inches='tight')\n",
        "    plt.show()"
      ],
      "metadata": {
        "id": "Z0W2cUgnBzJ2"
      },
      "execution_count": null,
      "outputs": []
    }
  ]
}